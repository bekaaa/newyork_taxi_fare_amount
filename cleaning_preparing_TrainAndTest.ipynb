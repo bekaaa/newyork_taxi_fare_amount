{
 "cells": [
  {
   "cell_type": "code",
   "execution_count": 1,
   "metadata": {},
   "outputs": [],
   "source": [
    "import pandas as pd\n",
    "import numpy as np\n",
    "from sklearn.preprocessing import LabelEncoder\n",
    "from datetime import datetime"
   ]
  },
  {
   "cell_type": "code",
   "execution_count": 2,
   "metadata": {},
   "outputs": [],
   "source": [
    "train = pd.read_csv('./train.csv.zip',compression='zip', \n",
    "                   dtype={'date': str, 'fullVisitorId': str, 'sessionId':str}, nrows=None)\n",
    "\n",
    "test = pd.read_csv('./test.csv.zip',compression='zip', \n",
    "                   dtype={'date': str, 'fullVisitorId': str, 'sessionId':str}, nrows=None)\n"
   ]
  },
  {
   "cell_type": "code",
   "execution_count": 3,
   "metadata": {
    "scrolled": false
   },
   "outputs": [
    {
     "name": "stdout",
     "output_type": "stream",
     "text": [
      "<class 'pandas.core.frame.DataFrame'>\n",
      "RangeIndex: 903653 entries, 0 to 903652\n",
      "Data columns (total 12 columns):\n",
      "channelGrouping         903653 non-null object\n",
      "date                    903653 non-null object\n",
      "device                  903653 non-null object\n",
      "fullVisitorId           903653 non-null object\n",
      "geoNetwork              903653 non-null object\n",
      "sessionId               903653 non-null object\n",
      "socialEngagementType    903653 non-null object\n",
      "totals                  903653 non-null object\n",
      "trafficSource           903653 non-null object\n",
      "visitId                 903653 non-null int64\n",
      "visitNumber             903653 non-null int64\n",
      "visitStartTime          903653 non-null int64\n",
      "dtypes: int64(3), object(9)\n",
      "memory usage: 82.7+ MB\n",
      "None\n"
     ]
    },
    {
     "data": {
      "text/html": [
       "<div>\n",
       "<style scoped>\n",
       "    .dataframe tbody tr th:only-of-type {\n",
       "        vertical-align: middle;\n",
       "    }\n",
       "\n",
       "    .dataframe tbody tr th {\n",
       "        vertical-align: top;\n",
       "    }\n",
       "\n",
       "    .dataframe thead th {\n",
       "        text-align: right;\n",
       "    }\n",
       "</style>\n",
       "<table border=\"1\" class=\"dataframe\">\n",
       "  <thead>\n",
       "    <tr style=\"text-align: right;\">\n",
       "      <th></th>\n",
       "      <th>channelGrouping</th>\n",
       "      <th>date</th>\n",
       "      <th>device</th>\n",
       "      <th>fullVisitorId</th>\n",
       "      <th>geoNetwork</th>\n",
       "      <th>sessionId</th>\n",
       "      <th>socialEngagementType</th>\n",
       "      <th>totals</th>\n",
       "      <th>trafficSource</th>\n",
       "      <th>visitId</th>\n",
       "      <th>visitNumber</th>\n",
       "      <th>visitStartTime</th>\n",
       "    </tr>\n",
       "  </thead>\n",
       "  <tbody>\n",
       "    <tr>\n",
       "      <th>0</th>\n",
       "      <td>Organic Search</td>\n",
       "      <td>20160902</td>\n",
       "      <td>{\"browser\": \"Chrome\", \"browserVersion\": \"not a...</td>\n",
       "      <td>1131660440785968503</td>\n",
       "      <td>{\"continent\": \"Asia\", \"subContinent\": \"Western...</td>\n",
       "      <td>1131660440785968503_1472830385</td>\n",
       "      <td>Not Socially Engaged</td>\n",
       "      <td>{\"visits\": \"1\", \"hits\": \"1\", \"pageviews\": \"1\",...</td>\n",
       "      <td>{\"campaign\": \"(not set)\", \"source\": \"google\", ...</td>\n",
       "      <td>1472830385</td>\n",
       "      <td>1</td>\n",
       "      <td>1472830385</td>\n",
       "    </tr>\n",
       "    <tr>\n",
       "      <th>1</th>\n",
       "      <td>Organic Search</td>\n",
       "      <td>20160902</td>\n",
       "      <td>{\"browser\": \"Firefox\", \"browserVersion\": \"not ...</td>\n",
       "      <td>377306020877927890</td>\n",
       "      <td>{\"continent\": \"Oceania\", \"subContinent\": \"Aust...</td>\n",
       "      <td>377306020877927890_1472880147</td>\n",
       "      <td>Not Socially Engaged</td>\n",
       "      <td>{\"visits\": \"1\", \"hits\": \"1\", \"pageviews\": \"1\",...</td>\n",
       "      <td>{\"campaign\": \"(not set)\", \"source\": \"google\", ...</td>\n",
       "      <td>1472880147</td>\n",
       "      <td>1</td>\n",
       "      <td>1472880147</td>\n",
       "    </tr>\n",
       "  </tbody>\n",
       "</table>\n",
       "</div>"
      ],
      "text/plain": [
       "  channelGrouping      date  \\\n",
       "0  Organic Search  20160902   \n",
       "1  Organic Search  20160902   \n",
       "\n",
       "                                              device        fullVisitorId  \\\n",
       "0  {\"browser\": \"Chrome\", \"browserVersion\": \"not a...  1131660440785968503   \n",
       "1  {\"browser\": \"Firefox\", \"browserVersion\": \"not ...   377306020877927890   \n",
       "\n",
       "                                          geoNetwork  \\\n",
       "0  {\"continent\": \"Asia\", \"subContinent\": \"Western...   \n",
       "1  {\"continent\": \"Oceania\", \"subContinent\": \"Aust...   \n",
       "\n",
       "                        sessionId  socialEngagementType  \\\n",
       "0  1131660440785968503_1472830385  Not Socially Engaged   \n",
       "1   377306020877927890_1472880147  Not Socially Engaged   \n",
       "\n",
       "                                              totals  \\\n",
       "0  {\"visits\": \"1\", \"hits\": \"1\", \"pageviews\": \"1\",...   \n",
       "1  {\"visits\": \"1\", \"hits\": \"1\", \"pageviews\": \"1\",...   \n",
       "\n",
       "                                       trafficSource     visitId  visitNumber  \\\n",
       "0  {\"campaign\": \"(not set)\", \"source\": \"google\", ...  1472830385            1   \n",
       "1  {\"campaign\": \"(not set)\", \"source\": \"google\", ...  1472880147            1   \n",
       "\n",
       "   visitStartTime  \n",
       "0      1472830385  \n",
       "1      1472880147  "
      ]
     },
     "execution_count": 3,
     "metadata": {},
     "output_type": "execute_result"
    }
   ],
   "source": [
    "print(train.info())\n",
    "train.head(2)"
   ]
  },
  {
   "cell_type": "code",
   "execution_count": 4,
   "metadata": {},
   "outputs": [
    {
     "name": "stdout",
     "output_type": "stream",
     "text": [
      "<class 'pandas.core.frame.DataFrame'>\n",
      "RangeIndex: 804684 entries, 0 to 804683\n",
      "Data columns (total 12 columns):\n",
      "channelGrouping         804684 non-null object\n",
      "date                    804684 non-null object\n",
      "device                  804684 non-null object\n",
      "fullVisitorId           804684 non-null object\n",
      "geoNetwork              804684 non-null object\n",
      "sessionId               804684 non-null object\n",
      "socialEngagementType    804684 non-null object\n",
      "totals                  804684 non-null object\n",
      "trafficSource           804684 non-null object\n",
      "visitId                 804684 non-null int64\n",
      "visitNumber             804684 non-null int64\n",
      "visitStartTime          804684 non-null int64\n",
      "dtypes: int64(3), object(9)\n",
      "memory usage: 73.7+ MB\n",
      "None\n"
     ]
    },
    {
     "data": {
      "text/html": [
       "<div>\n",
       "<style scoped>\n",
       "    .dataframe tbody tr th:only-of-type {\n",
       "        vertical-align: middle;\n",
       "    }\n",
       "\n",
       "    .dataframe tbody tr th {\n",
       "        vertical-align: top;\n",
       "    }\n",
       "\n",
       "    .dataframe thead th {\n",
       "        text-align: right;\n",
       "    }\n",
       "</style>\n",
       "<table border=\"1\" class=\"dataframe\">\n",
       "  <thead>\n",
       "    <tr style=\"text-align: right;\">\n",
       "      <th></th>\n",
       "      <th>channelGrouping</th>\n",
       "      <th>date</th>\n",
       "      <th>device</th>\n",
       "      <th>fullVisitorId</th>\n",
       "      <th>geoNetwork</th>\n",
       "      <th>sessionId</th>\n",
       "      <th>socialEngagementType</th>\n",
       "      <th>totals</th>\n",
       "      <th>trafficSource</th>\n",
       "      <th>visitId</th>\n",
       "      <th>visitNumber</th>\n",
       "      <th>visitStartTime</th>\n",
       "    </tr>\n",
       "  </thead>\n",
       "  <tbody>\n",
       "    <tr>\n",
       "      <th>0</th>\n",
       "      <td>Organic Search</td>\n",
       "      <td>20171016</td>\n",
       "      <td>{\"browser\": \"Chrome\", \"browserVersion\": \"not a...</td>\n",
       "      <td>6167871330617112363</td>\n",
       "      <td>{\"continent\": \"Asia\", \"subContinent\": \"Southea...</td>\n",
       "      <td>6167871330617112363_1508151024</td>\n",
       "      <td>Not Socially Engaged</td>\n",
       "      <td>{\"visits\": \"1\", \"hits\": \"4\", \"pageviews\": \"4\"}</td>\n",
       "      <td>{\"campaign\": \"(not set)\", \"source\": \"google\", ...</td>\n",
       "      <td>1508151024</td>\n",
       "      <td>2</td>\n",
       "      <td>1508151024</td>\n",
       "    </tr>\n",
       "    <tr>\n",
       "      <th>1</th>\n",
       "      <td>Organic Search</td>\n",
       "      <td>20171016</td>\n",
       "      <td>{\"browser\": \"Chrome\", \"browserVersion\": \"not a...</td>\n",
       "      <td>0643697640977915618</td>\n",
       "      <td>{\"continent\": \"Europe\", \"subContinent\": \"South...</td>\n",
       "      <td>0643697640977915618_1508175522</td>\n",
       "      <td>Not Socially Engaged</td>\n",
       "      <td>{\"visits\": \"1\", \"hits\": \"5\", \"pageviews\": \"5\",...</td>\n",
       "      <td>{\"campaign\": \"(not set)\", \"source\": \"google\", ...</td>\n",
       "      <td>1508175522</td>\n",
       "      <td>1</td>\n",
       "      <td>1508175522</td>\n",
       "    </tr>\n",
       "  </tbody>\n",
       "</table>\n",
       "</div>"
      ],
      "text/plain": [
       "  channelGrouping      date  \\\n",
       "0  Organic Search  20171016   \n",
       "1  Organic Search  20171016   \n",
       "\n",
       "                                              device        fullVisitorId  \\\n",
       "0  {\"browser\": \"Chrome\", \"browserVersion\": \"not a...  6167871330617112363   \n",
       "1  {\"browser\": \"Chrome\", \"browserVersion\": \"not a...  0643697640977915618   \n",
       "\n",
       "                                          geoNetwork  \\\n",
       "0  {\"continent\": \"Asia\", \"subContinent\": \"Southea...   \n",
       "1  {\"continent\": \"Europe\", \"subContinent\": \"South...   \n",
       "\n",
       "                        sessionId  socialEngagementType  \\\n",
       "0  6167871330617112363_1508151024  Not Socially Engaged   \n",
       "1  0643697640977915618_1508175522  Not Socially Engaged   \n",
       "\n",
       "                                              totals  \\\n",
       "0     {\"visits\": \"1\", \"hits\": \"4\", \"pageviews\": \"4\"}   \n",
       "1  {\"visits\": \"1\", \"hits\": \"5\", \"pageviews\": \"5\",...   \n",
       "\n",
       "                                       trafficSource     visitId  visitNumber  \\\n",
       "0  {\"campaign\": \"(not set)\", \"source\": \"google\", ...  1508151024            2   \n",
       "1  {\"campaign\": \"(not set)\", \"source\": \"google\", ...  1508175522            1   \n",
       "\n",
       "   visitStartTime  \n",
       "0      1508151024  \n",
       "1      1508175522  "
      ]
     },
     "execution_count": 4,
     "metadata": {},
     "output_type": "execute_result"
    }
   ],
   "source": [
    "print(test.info())\n",
    "test.head(2)"
   ]
  },
  {
   "cell_type": "markdown",
   "metadata": {},
   "source": [
    "-----------\n",
    "## Totals"
   ]
  },
  {
   "cell_type": "code",
   "execution_count": 5,
   "metadata": {},
   "outputs": [],
   "source": [
    "totals_train = train.totals.copy()\n",
    "totals_test  = test.totals.copy()\n",
    "\n",
    "cols_train = ['bounces', 'hits', 'newVisits', 'pageviews','transactionRevenue']\n",
    "cols_test = cols = ['bounces', 'hits', 'newVisits', 'pageviews']\n",
    "\n",
    "totals_train_df = pd.DataFrame(columns=cols_train, data=np.zeros((totals_train.shape[0],len(cols_train))))\n",
    "totals_test_df  = pd.DataFrame(columns=cols_test, data=np.zeros((totals_test.shape[0],len(cols_test))))\n",
    "\n",
    "\n",
    "for t,c in zip(totals_train,range(totals_train.shape[0])):\n",
    "    for i in t[1:-1].split(', ') :\n",
    "        typ,val = [ j[1:-1] for j in i.split(': ')]\n",
    "        totals_train_df.at[c,typ] = val\n",
    "\n",
    "for t,c in zip(totals_test,range(totals_test.shape[0])):\n",
    "    for i in t[1:-1].split(', ') :\n",
    "        typ,val = [ j[1:-1] for j in i.split(': ')]\n",
    "        totals_test_df.at[c,typ] = val\n",
    "        \n",
    "                \n",
    "new_train = pd.concat((train,totals_train_df),sort=False,axis=1)\n",
    "new_train.drop(columns=['totals'], inplace=True)\n",
    "\n",
    "new_test = pd.concat((test,totals_test_df),sort=False,axis=1)\n",
    "new_test.drop(columns=['totals'], inplace=True)"
   ]
  },
  {
   "cell_type": "markdown",
   "metadata": {},
   "source": [
    "----------------\n",
    "\n",
    "## TrafficSource"
   ]
  },
  {
   "cell_type": "code",
   "execution_count": null,
   "metadata": {},
   "outputs": [],
   "source": []
  },
  {
   "cell_type": "code",
   "execution_count": 6,
   "metadata": {},
   "outputs": [],
   "source": [
    "trafficTrain = train.trafficSource.copy()\n",
    "trafficTest = test.trafficSource.copy()\n"
   ]
  },
  {
   "cell_type": "code",
   "execution_count": 7,
   "metadata": {},
   "outputs": [
    {
     "name": "stdout",
     "output_type": "stream",
     "text": [
      "CA\", belfry t shirts\", shirts, business card, cap,etx\", CA\", CA\", CA\", CA\", \n",
      "\n",
      "\n",
      "Com\", CA\", hoodies caps\", CA\", boys\", google\", "
     ]
    }
   ],
   "source": [
    "cols = ['campaign', 'medium', 'adNetworkType', 'gclId', 'adwordsClickInfo', 'targetingCriteria',\n",
    "        'isTrueDirect', 'adContent', 'isVideoAd', 'slot', 'campaignCode', 'criteriaParameters',\n",
    "        'referralPath', 'source', 'keyword']\n",
    "\n",
    "trafficTrain_df = pd.DataFrame(columns=cols, data=np.zeros((trafficTrain.shape[0],len(cols))),dtype=str)\n",
    "trafficTest_df = pd.DataFrame(columns=cols, data=np.zeros((trafficTest.shape[0],len(cols))),dtype=str)\n",
    "\n",
    "\n",
    "for t,c in zip(trafficTrain,range(trafficTrain.shape[0])):\n",
    "    for i in t[1:-1].split(', '):\n",
    "        try :\n",
    "            typ,val = [ j[1:-1] for j in i.split(': ',1)]\n",
    "            trafficTrain_df.at[c,typ] = val\n",
    "        except:\n",
    "            print(i,end=', ')\n",
    "print('\\n\\n')\n",
    "\n",
    "for t,c in zip(trafficTest,range(trafficTest.shape[0])):\n",
    "    for i in t[1:-1].split(', '):\n",
    "        try :\n",
    "            typ,val = [ j[1:-1] for j in i.split(': ',1)]\n",
    "            trafficTest_df.at[c,typ] = val\n",
    "        except:\n",
    "            print(i,end=', ')\n"
   ]
  },
  {
   "cell_type": "code",
   "execution_count": null,
   "metadata": {},
   "outputs": [],
   "source": []
  },
  {
   "cell_type": "code",
   "execution_count": null,
   "metadata": {},
   "outputs": [],
   "source": []
  },
  {
   "cell_type": "code",
   "execution_count": 8,
   "metadata": {},
   "outputs": [
    {
     "data": {
      "text/html": [
       "<div>\n",
       "<style scoped>\n",
       "    .dataframe tbody tr th:only-of-type {\n",
       "        vertical-align: middle;\n",
       "    }\n",
       "\n",
       "    .dataframe tbody tr th {\n",
       "        vertical-align: top;\n",
       "    }\n",
       "\n",
       "    .dataframe thead th {\n",
       "        text-align: right;\n",
       "    }\n",
       "</style>\n",
       "<table border=\"1\" class=\"dataframe\">\n",
       "  <thead>\n",
       "    <tr style=\"text-align: right;\">\n",
       "      <th></th>\n",
       "      <th>medium</th>\n",
       "      <th>isTrueDirect</th>\n",
       "      <th>isVideoAd</th>\n",
       "      <th>slot</th>\n",
       "    </tr>\n",
       "  </thead>\n",
       "  <tbody>\n",
       "    <tr>\n",
       "      <th>0</th>\n",
       "      <td>5</td>\n",
       "      <td>1</td>\n",
       "      <td>0</td>\n",
       "      <td>0</td>\n",
       "    </tr>\n",
       "    <tr>\n",
       "      <th>1</th>\n",
       "      <td>5</td>\n",
       "      <td>0</td>\n",
       "      <td>0</td>\n",
       "      <td>0</td>\n",
       "    </tr>\n",
       "    <tr>\n",
       "      <th>2</th>\n",
       "      <td>5</td>\n",
       "      <td>0</td>\n",
       "      <td>0</td>\n",
       "      <td>0</td>\n",
       "    </tr>\n",
       "  </tbody>\n",
       "</table>\n",
       "</div>"
      ],
      "text/plain": [
       "   medium  isTrueDirect  isVideoAd  slot\n",
       "0       5             1          0     0\n",
       "1       5             0          0     0\n",
       "2       5             0          0     0"
      ]
     },
     "execution_count": 8,
     "metadata": {},
     "output_type": "execute_result"
    }
   ],
   "source": [
    "trafficTrain_df = trafficTrain_df[['medium','isTrueDirect','isVideoAd','slot','source']].copy()\n",
    "trafficTest_df = trafficTest_df[['medium','isTrueDirect','isVideoAd','slot','source']].copy()\n",
    "\n",
    "Lencoder = LabelEncoder()\n",
    "\n",
    "_ = Lencoder.fit(pd.concat((trafficTrain_df.medium, trafficTest_df.medium)))\n",
    "trafficTrain_df.medium = Lencoder.transform(trafficTrain_df.medium)\n",
    "trafficTest_df.medium = Lencoder.transform(trafficTest_df.medium)\n",
    "\n",
    "_ = Lencoder.fit(pd.concat((trafficTrain_df.isTrueDirect, trafficTest_df.isTrueDirect)))\n",
    "trafficTrain_df.isTrueDirect = Lencoder.transform(trafficTrain_df.isTrueDirect)\n",
    "trafficTest_df.isTrueDirect = Lencoder.transform(trafficTest_df.isTrueDirect)\n",
    "\n",
    "_ = Lencoder.fit(pd.concat((trafficTrain_df.isVideoAd, trafficTest_df.isVideoAd)))\n",
    "trafficTrain_df.isVideoAd = Lencoder.transform(trafficTrain_df.isVideoAd)\n",
    "trafficTest_df.isVideoAd = Lencoder.transform(trafficTest_df.isVideoAd)\n",
    "\n",
    "_ = Lencoder.fit(pd.concat((trafficTrain_df.slot, trafficTest_df.slot)))\n",
    "trafficTrain_df.slot = Lencoder.transform(trafficTrain_df.slot)\n",
    "trafficTest_df.slot = Lencoder.transform(trafficTest_df.slot)\n",
    "\n",
    "# later I'll work on this\n",
    "trafficTrain_df.drop(columns=['source'],inplace=True)\n",
    "trafficTest_df.drop(columns=['source'],inplace=True)\n",
    "\n",
    "trafficTest_df.head(3)"
   ]
  },
  {
   "cell_type": "code",
   "execution_count": 9,
   "metadata": {},
   "outputs": [],
   "source": [
    "new_train = pd.concat((new_train,trafficTrain_df),sort=False,axis=1)\n",
    "new_train.drop(columns=['trafficSource'], inplace=True)\n",
    "\n",
    "new_test = pd.concat((new_test,trafficTest_df),sort=False,axis=1)\n",
    "new_test.drop(columns=['trafficSource'], inplace=True)"
   ]
  },
  {
   "cell_type": "code",
   "execution_count": 28,
   "metadata": {},
   "outputs": [],
   "source": [
    "train_bu = new_train.copy()\n",
    "test_bu = new_test.copy()"
   ]
  },
  {
   "cell_type": "markdown",
   "metadata": {},
   "source": [
    "-------\n",
    "\n",
    "## ChannelGrouping, SocialEngagementType, Date"
   ]
  },
  {
   "cell_type": "code",
   "execution_count": 10,
   "metadata": {},
   "outputs": [],
   "source": [
    "# ChannelGrouping\n",
    "Lencoder = LabelEncoder()\n",
    "_ = Lencoder.fit(pd.concat( (new_train.channelGrouping,new_test.channelGrouping)))\n",
    "new_train.channelGrouping = Lencoder.transform(new_train.channelGrouping)\n",
    "new_test.channelGrouping = Lencoder.transform(new_test.channelGrouping)"
   ]
  },
  {
   "cell_type": "code",
   "execution_count": 11,
   "metadata": {},
   "outputs": [],
   "source": [
    "# SocialEngagementType\n",
    "new_train.drop(columns=['socialEngagementType'], inplace=True)\n",
    "new_test.drop(columns=['socialEngagementType'], inplace=True)"
   ]
  },
  {
   "cell_type": "code",
   "execution_count": 13,
   "metadata": {},
   "outputs": [],
   "source": [
    "# Date\n",
    "dateTrain = new_train.date.copy()\n",
    "dateTrain_df = pd.DataFrame(columns=['year', 'month', 'dayOfYear'], data=np.zeros((dateTrain.shape[0],3)))\n",
    "\n",
    "dateTest = new_test.date.copy()\n",
    "dateTest_df = pd.DataFrame(columns=['year', 'month', 'dayOfYear'], data=np.zeros((dateTest.shape[0],3)))\n",
    "\n",
    "\n",
    "for d,ind in zip(dateTrain,range(len(dateTrain))) :\n",
    "    dateTrain_df.at[ind,'year'] = np.int(d[:4])\n",
    "    dateTrain_df.at[ind,'month'] = np.int(d[4:6])\n",
    "    adate = datetime.strptime(d, \"%Y%m%d\")\n",
    "    dateTrain_df.at[ind,'dayOfYear'] = adate.timetuple().tm_yday\n",
    "    \n",
    "for d,ind in zip(dateTest,range(len(dateTest))) :\n",
    "    dateTest_df.at[ind,'year'] = np.int(d[:4])\n",
    "    dateTest_df.at[ind,'month'] = np.int(d[4:6])\n",
    "    adate = datetime.strptime(d, \"%Y%m%d\")\n",
    "    dateTest_df.at[ind,'dayOfYear'] = adate.timetuple().tm_yday"
   ]
  },
  {
   "cell_type": "code",
   "execution_count": 14,
   "metadata": {},
   "outputs": [],
   "source": [
    "new_train = pd.concat((new_train,dateTrain_df),sort=False,axis=1)\n",
    "new_train.drop(columns=['date'], inplace=True)\n",
    "\n",
    "new_test = pd.concat((new_test,dateTest_df),sort=False,axis=1)\n",
    "new_test.drop(columns=['date'], inplace=True)\n"
   ]
  },
  {
   "cell_type": "markdown",
   "metadata": {},
   "source": [
    "\n",
    "--------------------------------------\n",
    "\n",
    "## geoNetwork"
   ]
  },
  {
   "cell_type": "code",
   "execution_count": 20,
   "metadata": {},
   "outputs": [],
   "source": [
    "geoNetworkTrain = new_train.geoNetwork.copy()\n",
    "geoNetworkTest = new_test.geoNetwork.copy()\n",
    "\n",
    "cols = ['continent', 'subContinent', 'country']\n",
    "geoNetworkTrain_df = pd.DataFrame(data=np.zeros([len(geoNetworkTrain),len(cols)]),columns=cols, dtype=np.str)\n",
    "geoNetworkTest_df = pd.DataFrame(data=np.zeros([len(geoNetworkTest),len(cols)]),columns=cols, dtype=np.str)\n",
    "\n",
    "for t,c in zip(geoNetworkTrain,range(geoNetworkTrain.shape[0])):\n",
    "    for i in t[1:-1].split(', ') :\n",
    "        typ,val = [ j[1:-1] for j in i.split(': ')]\n",
    "        if typ in cols :\n",
    "            geoNetworkTrain_df.at[c,typ] = val\n",
    "            \n",
    "for t,c in zip(geoNetworkTest,range(geoNetworkTest.shape[0])):\n",
    "    for i in t[1:-1].split(', ') :\n",
    "        typ,val = [ j[1:-1] for j in i.split(': ')]\n",
    "        if typ in cols :\n",
    "            geoNetworkTest_df.at[c,typ] = val"
   ]
  },
  {
   "cell_type": "code",
   "execution_count": 21,
   "metadata": {
    "scrolled": true
   },
   "outputs": [],
   "source": [
    "lencoder = LabelEncoder()\n",
    "_ = lencoder.fit(pd.concat((geoNetworkTrain_df.continent, geoNetworkTest_df.continent)))\n",
    "geoNetworkTrain_df.continent = lencoder.transform(geoNetworkTrain_df.continent)\n",
    "geoNetworkTest_df.continent = lencoder.transform(geoNetworkTest_df.continent)\n",
    "\n",
    "_ = lencoder.fit(pd.concat((geoNetworkTrain_df.subContinent, geoNetworkTest_df.subContinent)))\n",
    "geoNetworkTrain_df.subContinent = lencoder.transform(geoNetworkTrain_df.subContinent)\n",
    "geoNetworkTest_df.subContinent = lencoder.transform(geoNetworkTest_df.subContinent)\n",
    "\n",
    "_ = lencoder.fit(pd.concat((geoNetworkTrain_df.country, geoNetworkTest_df.country)))\n",
    "geoNetworkTrain_df.country = lencoder.fit_transform(geoNetworkTrain_df.country)\n",
    "geoNetworkTest_df.country = lencoder.fit_transform(geoNetworkTest_df.country)\n",
    "\n"
   ]
  },
  {
   "cell_type": "code",
   "execution_count": 22,
   "metadata": {},
   "outputs": [],
   "source": [
    "new_train = pd.concat((new_train,geoNetworkTrain_df),sort=False,axis=1)\n",
    "new_train.drop(columns=['geoNetwork'], inplace=True)\n",
    "\n",
    "new_test = pd.concat((new_test,geoNetworkTest_df),sort=False,axis=1)\n",
    "new_test.drop(columns=['geoNetwork'], inplace=True)\n"
   ]
  },
  {
   "cell_type": "code",
   "execution_count": 19,
   "metadata": {},
   "outputs": [],
   "source": []
  },
  {
   "cell_type": "markdown",
   "metadata": {},
   "source": [
    "------------------------\n",
    "\n",
    "## Device\n",
    "\n"
   ]
  },
  {
   "cell_type": "code",
   "execution_count": 24,
   "metadata": {},
   "outputs": [],
   "source": [
    "deviceTrain = new_train.device.copy()\n",
    "deviceTest = new_test.device.copy()"
   ]
  },
  {
   "cell_type": "code",
   "execution_count": 25,
   "metadata": {},
   "outputs": [
    {
     "name": "stdout",
     "output_type": "stream",
     "text": [
      "\"browser\": \"subjectAgent: NoticiasBoom\"\n",
      "\n",
      "\n",
      "\n"
     ]
    }
   ],
   "source": [
    "\n",
    "cols = ['browser', 'operatingSystem', 'deviceCategory']\n",
    "deviceTrain_df = pd.DataFrame(data=np.zeros([len(deviceTrain),len(cols)]),columns=cols, dtype=np.str)\n",
    "deviceTest_df = pd.DataFrame(data=np.zeros([len(deviceTest),len(cols)]),columns=cols, dtype=np.str)\n",
    "\n",
    "\n",
    "for t,ind in zip(deviceTrain,range(deviceTrain.shape[0])):\n",
    "    for i in t[1:-1].split(', ') :\n",
    "        try:\n",
    "            typ,val = [ j[1:-1] for j in i.split(': ')]\n",
    "            if typ in cols :\n",
    "                deviceTrain_df.at[ind,typ] = val\n",
    "        except:\n",
    "            print(i)\n",
    "            \n",
    "print('\\n\\n')\n",
    "for t,ind in zip(deviceTest,range(deviceTest.shape[0])):\n",
    "    for i in t[1:-1].split(', ') :\n",
    "        try:\n",
    "            typ,val = [ j[1:-1] for j in i.split(': ')]\n",
    "            if typ in cols :\n",
    "                deviceTest_df.at[ind,typ] = val\n",
    "        except:\n",
    "            print(i)"
   ]
  },
  {
   "cell_type": "code",
   "execution_count": 26,
   "metadata": {},
   "outputs": [],
   "source": [
    "freq = deviceTrain_df.browser.value_counts()\n",
    "browsers = freq[ freq > 2000].index.tolist()\n",
    "\n",
    "deviceTrain_df.loc[~deviceTrain_df.browser.isin(browsers), 'browser'] = 0\n",
    "deviceTest_df.loc[~deviceTest_df.browser.isin(browsers), 'browser'] = 0\n",
    "\n",
    "# fix some str/int problem\n",
    "deviceTrain_df = deviceTrain_df.astype(dtype=np.str)\n",
    "deviceTest_df = deviceTest_df.astype(dtype=np.str)\n",
    "\n",
    "\n",
    "lencoder = LabelEncoder()\n",
    "\n",
    "_ = lencoder.fit(pd.concat((deviceTrain_df.browser, deviceTest_df.browser)))\n",
    "deviceTrain_df.browser = lencoder.transform(deviceTrain_df.browser)\n",
    "deviceTest_df.browser = lencoder.transform(deviceTest_df.browser)\n",
    "\n",
    "_ = lencoder.fit(pd.concat((deviceTrain_df.operatingSystem, deviceTest_df.operatingSystem)))\n",
    "deviceTrain_df.operatingSystem = lencoder.transform(deviceTrain_df.operatingSystem)\n",
    "deviceTest_df.operatingSystem = lencoder.transform(deviceTest_df.operatingSystem)\n",
    "\n",
    "_ = lencoder.fit(pd.concat((deviceTrain_df.deviceCategory, deviceTest_df.deviceCategory)))\n",
    "deviceTrain_df.deviceCategory = lencoder.transform(deviceTrain_df.deviceCategory)\n",
    "deviceTest_df.deviceCategory = lencoder.transform(deviceTest_df.deviceCategory)\n"
   ]
  },
  {
   "cell_type": "code",
   "execution_count": 27,
   "metadata": {},
   "outputs": [],
   "source": [
    "new_train = pd.concat((new_train,deviceTrain_df),sort=False,axis=1)\n",
    "new_train.drop(columns=['device'], inplace=True)\n",
    "\n",
    "new_test = pd.concat((new_test,deviceTest_df),sort=False,axis=1)\n",
    "new_test.drop(columns=['device'], inplace=True)\n"
   ]
  },
  {
   "cell_type": "markdown",
   "metadata": {},
   "source": [
    "-----------------------------------\n",
    "\n",
    "## Last touch [ target, drop others..]"
   ]
  },
  {
   "cell_type": "code",
   "execution_count": 34,
   "metadata": {},
   "outputs": [],
   "source": []
  },
  {
   "cell_type": "code",
   "execution_count": 35,
   "metadata": {},
   "outputs": [],
   "source": [
    "fullVisitorId = new_test.fullVisitorId.copy()\n",
    "\n",
    "\n",
    "cols_to_drop = ['fullVisitorId','sessionId','visitId','visitStartTime']\n",
    "new_train.drop(columns=cols_to_drop, inplace=True)\n",
    "new_test.drop(columns=cols_to_drop, inplace=True)\n",
    "\n",
    "new_train.rename(columns={'transactionRevenue':'target'}, inplace=True)\n",
    "\n",
    "new_train.to_hdf('./ready_train.hdf',key='latest')\n",
    "new_test.to_hdf('./ready_test.hdf',key='latest')\n",
    "fullVisitorId.to_csv('./fullVisitorId.csv',index=False)"
   ]
  },
  {
   "cell_type": "markdown",
   "metadata": {},
   "source": [
    "---------------------\n",
    "\n",
    "## Check correlation : "
   ]
  },
  {
   "cell_type": "code",
   "execution_count": 30,
   "metadata": {},
   "outputs": [
    {
     "name": "stdout",
     "output_type": "stream",
     "text": [
      "channelGrouping  &  medium  :  0.8207965760842164\n",
      "visitId  &  visitStartTime  :  0.9999999999903184\n",
      "visitId  &  year  :  0.8630703172955572\n",
      "visitId  &  month  :  -0.5023355574379903\n",
      "visitId  &  dayOfYear  :  -0.5006630265278692\n",
      "visitStartTime  &  visitId  :  0.9999999999903184\n",
      "visitStartTime  &  year  :  0.8630703172030794\n",
      "visitStartTime  &  month  :  -0.5023355577686512\n",
      "visitStartTime  &  dayOfYear  :  -0.5006630259263771\n",
      "hits  &  pageviews  :  0.9832010020182913\n",
      "newVisits  &  isTrueDirect  :  -0.6160405810324063\n",
      "pageviews  &  hits  :  0.9832010020182913\n",
      "medium  &  channelGrouping  :  0.8207965760842164\n",
      "medium  &  isTrueDirect  :  -0.6177875335253851\n",
      "isTrueDirect  &  newVisits  :  -0.6160405810324063\n",
      "isTrueDirect  &  medium  :  -0.6177875335253851\n",
      "isVideoAd  &  slot  :  0.998676850320491\n",
      "slot  &  isVideoAd  :  0.998676850320491\n",
      "year  &  visitId  :  0.8630703172955572\n",
      "year  &  visitStartTime  :  0.8630703172030794\n",
      "year  &  month  :  -0.8682717205928565\n",
      "year  &  dayOfYear  :  -0.8693274479261949\n",
      "month  &  visitId  :  -0.5023355574379903\n",
      "month  &  visitStartTime  :  -0.5023355577686512\n",
      "month  &  year  :  -0.8682717205928565\n",
      "month  &  dayOfYear  :  0.9965539361926659\n",
      "dayOfYear  &  visitId  :  -0.5006630265278692\n",
      "dayOfYear  &  visitStartTime  :  -0.5006630259263771\n",
      "dayOfYear  &  year  :  -0.8693274479261949\n",
      "dayOfYear  &  month  :  0.9965539361926659\n"
     ]
    }
   ],
   "source": [
    "corr = new_train.corr()\n",
    "\n",
    "for i in corr.columns:\n",
    "    for j, val in zip(corr[i].index, corr[i].values):\n",
    "        if i == j : continue\n",
    "        if np.abs(val) > .5:\n",
    "            print (i,' & ',j, ' : ', val)"
   ]
  },
  {
   "cell_type": "code",
   "execution_count": 32,
   "metadata": {},
   "outputs": [
    {
     "data": {
      "text/plain": [
       "channelGrouping      -0.006644\n",
       "visitId               0.002724\n",
       "visitNumber           0.051366\n",
       "visitStartTime        0.002724\n",
       "bounces              -0.032206\n",
       "hits                  0.154333\n",
       "newVisits            -0.041164\n",
       "pageviews             0.155589\n",
       "transactionRevenue    1.000000\n",
       "medium               -0.008569\n",
       "isTrueDirect          0.030819\n",
       "isVideoAd             0.000834\n",
       "slot                  0.000859\n",
       "year                  0.003194\n",
       "month                -0.002849\n",
       "dayOfYear            -0.002817\n",
       "continent            -0.025523\n",
       "subContinent         -0.009144\n",
       "country               0.022372\n",
       "browser              -0.014879\n",
       "operatingSystem      -0.011925\n",
       "deviceCategory       -0.015580\n",
       "Name: transactionRevenue, dtype: float64"
      ]
     },
     "execution_count": 32,
     "metadata": {},
     "output_type": "execute_result"
    }
   ],
   "source": [
    "corr['target']\n"
   ]
  },
  {
   "cell_type": "code",
   "execution_count": 37,
   "metadata": {},
   "outputs": [],
   "source": [
    "cols_to_drop = ['month', 'slot', 'visits']\n",
    "new_train.drop(columns=cols_to_drop, inplace=True)\n",
    "new_test.drop(columns=cols_to_drop, inplace=True)\n",
    "\n",
    "\n",
    "new_train.to_hdf('./ready_train.hdf',key='latest')\n",
    "new_test.to_hdf('./ready_test.hdf',key='latest')"
   ]
  },
  {
   "cell_type": "markdown",
   "metadata": {},
   "source": [
    "------------------------------"
   ]
  },
  {
   "cell_type": "markdown",
   "metadata": {},
   "source": []
  },
  {
   "cell_type": "code",
   "execution_count": 39,
   "metadata": {},
   "outputs": [
    {
     "data": {
      "text/plain": [
       "(903653, 18)"
      ]
     },
     "execution_count": 39,
     "metadata": {},
     "output_type": "execute_result"
    }
   ],
   "source": [
    "new_train.shape"
   ]
  },
  {
   "cell_type": "code",
   "execution_count": null,
   "metadata": {},
   "outputs": [],
   "source": []
  },
  {
   "cell_type": "code",
   "execution_count": null,
   "metadata": {},
   "outputs": [],
   "source": []
  },
  {
   "cell_type": "code",
   "execution_count": 25,
   "metadata": {},
   "outputs": [],
   "source": []
  },
  {
   "cell_type": "code",
   "execution_count": 28,
   "metadata": {},
   "outputs": [],
   "source": []
  },
  {
   "cell_type": "code",
   "execution_count": null,
   "metadata": {},
   "outputs": [],
   "source": []
  },
  {
   "cell_type": "code",
   "execution_count": null,
   "metadata": {},
   "outputs": [],
   "source": []
  },
  {
   "cell_type": "code",
   "execution_count": null,
   "metadata": {},
   "outputs": [],
   "source": []
  },
  {
   "cell_type": "code",
   "execution_count": null,
   "metadata": {},
   "outputs": [],
   "source": []
  },
  {
   "cell_type": "code",
   "execution_count": null,
   "metadata": {},
   "outputs": [],
   "source": []
  },
  {
   "cell_type": "code",
   "execution_count": null,
   "metadata": {},
   "outputs": [],
   "source": []
  },
  {
   "cell_type": "code",
   "execution_count": null,
   "metadata": {},
   "outputs": [],
   "source": []
  }
 ],
 "metadata": {
  "kernelspec": {
   "display_name": "Python 3",
   "language": "python",
   "name": "python3"
  },
  "language_info": {
   "codemirror_mode": {
    "name": "ipython",
    "version": 3
   },
   "file_extension": ".py",
   "mimetype": "text/x-python",
   "name": "python",
   "nbconvert_exporter": "python",
   "pygments_lexer": "ipython3",
   "version": "3.5.5"
  }
 },
 "nbformat": 4,
 "nbformat_minor": 2
}
